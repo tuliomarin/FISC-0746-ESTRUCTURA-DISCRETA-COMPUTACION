{
  "nbformat": 4,
  "nbformat_minor": 0,
  "metadata": {
    "colab": {
      "name": "Copy of Python00.ipynb",
      "version": "0.3.2",
      "provenance": []
    },
    "kernelspec": {
      "name": "python3",
      "display_name": "Python 3"
    }
  },
  "cells": [
    {
      "metadata": {
        "id": "_gmZI7D4giEZ",
        "colab_type": "text"
      },
      "cell_type": "markdown",
      "source": [
        "#UNIVERSIDAD TECNOLÓGICA DE PANAMÁ\n",
        "##FACULTAD DE INGENIERÍA DE SISTEMAS COMPUTACIONALES\n",
        "##DEPARTAMENTO DE COMPUTACIÓN Y SIMULACIÓN DE SISTEMAS\n",
        "\n",
        "##ESTRUCTURAS DISCRETAS PARA LA COMPUTACIÓN\n",
        "\n",
        "## Profesor: Ezequiel Aguilar González\n",
        "\n"
      ]
    },
    {
      "metadata": {
        "id": "vw1HIU8zg86M",
        "colab_type": "text"
      },
      "cell_type": "markdown",
      "source": [
        "##Python Básico"
      ]
    },
    {
      "metadata": {
        "id": "0ShgKNo4go2E",
        "colab_type": "code",
        "outputId": "4c47e3bf-6045-4c6f-9e6e-6310483f2ab7",
        "colab": {
          "base_uri": "https://localhost:8080/",
          "height": 51
        }
      },
      "cell_type": "code",
      "source": [
        "import sys\n",
        "print(sys.version)"
      ],
      "execution_count": 0,
      "outputs": [
        {
          "output_type": "stream",
          "text": [
            "3.6.7 (default, Oct 22 2018, 11:32:17) \n",
            "[GCC 8.2.0]\n"
          ],
          "name": "stdout"
        }
      ]
    },
    {
      "metadata": {
        "id": "kdxbpIfDhWP3",
        "colab_type": "code",
        "outputId": "22fd1657-aa36-4b29-fac0-8edb21fd674e",
        "colab": {
          "base_uri": "https://localhost:8080/",
          "height": 34
        }
      },
      "cell_type": "code",
      "source": [
        "2+4"
      ],
      "execution_count": 0,
      "outputs": [
        {
          "output_type": "execute_result",
          "data": {
            "text/plain": [
              "6"
            ]
          },
          "metadata": {
            "tags": []
          },
          "execution_count": 2
        }
      ]
    },
    {
      "metadata": {
        "id": "zZXBYUaAhYcs",
        "colab_type": "code",
        "outputId": "e2a424bc-b101-49d2-87ea-b211dab11e18",
        "colab": {
          "base_uri": "https://localhost:8080/",
          "height": 34
        }
      },
      "cell_type": "code",
      "source": [
        "10/4"
      ],
      "execution_count": 0,
      "outputs": [
        {
          "output_type": "execute_result",
          "data": {
            "text/plain": [
              "2.5"
            ]
          },
          "metadata": {
            "tags": []
          },
          "execution_count": 3
        }
      ]
    },
    {
      "metadata": {
        "id": "UKxPHc6xhjJ6",
        "colab_type": "text"
      },
      "cell_type": "markdown",
      "source": [
        "###Asignación: Imprimir 2 elevado a 128"
      ]
    },
    {
      "metadata": {
        "id": "4SBiPnu-hcTo",
        "colab_type": "code",
        "colab": {}
      },
      "cell_type": "code",
      "source": [
        ""
      ],
      "execution_count": 0,
      "outputs": []
    },
    {
      "metadata": {
        "id": "VYWPjkqJheVO",
        "colab_type": "code",
        "outputId": "08cb6410-7cd5-4759-e9ce-d2218836e79d",
        "colab": {
          "base_uri": "https://localhost:8080/",
          "height": 34
        }
      },
      "cell_type": "code",
      "source": [
        "from math import factorial\n",
        "factorial(5)"
      ],
      "execution_count": 0,
      "outputs": [
        {
          "output_type": "execute_result",
          "data": {
            "text/plain": [
              "120"
            ]
          },
          "metadata": {
            "tags": []
          },
          "execution_count": 5
        }
      ]
    },
    {
      "metadata": {
        "id": "1EpcyXd4iTfw",
        "colab_type": "code",
        "colab": {}
      },
      "cell_type": "code",
      "source": [
        "n = 3  # numero entero\n",
        "lugar_de_nacimiento = \"Nicaragua\"  # lugar de nacimiento\n",
        "colaborador = {\n",
        "  'edad': 20,\n",
        "  'puesto': 'CTO',\n",
        "  'cedula': '20-53-4978',\n",
        "}\n",
        "\n"
      ],
      "execution_count": 0,
      "outputs": []
    },
    {
      "metadata": {
        "id": "W1YKfeIFjBVK",
        "colab_type": "text"
      },
      "cell_type": "markdown",
      "source": [
        "### Asignación: Imprimir n"
      ]
    },
    {
      "metadata": {
        "id": "qL9LFpNRjHvq",
        "colab_type": "code",
        "colab": {
          "base_uri": "https://localhost:8080/",
          "height": 34
        },
        "outputId": "541205ae-5670-4192-85d8-ac4b042f8aac"
      },
      "cell_type": "code",
      "source": [
        "2**128\n"
      ],
      "execution_count": 1,
      "outputs": [
        {
          "output_type": "execute_result",
          "data": {
            "text/plain": [
              "340282366920938463463374607431768211456"
            ]
          },
          "metadata": {
            "tags": []
          },
          "execution_count": 1
        }
      ]
    },
    {
      "metadata": {
        "id": "DqnSBF0BjIwm",
        "colab_type": "text"
      },
      "cell_type": "markdown",
      "source": [
        "### Asignación: Imprimir lugar_de_nacimiento"
      ]
    },
    {
      "metadata": {
        "id": "9wrgnPT6jNLA",
        "colab_type": "code",
        "colab": {
          "base_uri": "https://localhost:8080/",
          "height": 51
        },
        "outputId": "173dbfa5-b3fc-473a-c615-745222e839e7"
      },
      "cell_type": "code",
      "source": [
        "print(n);\n",
        "print(lugar_de_nacimiento);\n"
      ],
      "execution_count": 11,
      "outputs": [
        {
          "output_type": "stream",
          "text": [
            "3\n",
            "Nicaragua\n"
          ],
          "name": "stdout"
        }
      ]
    },
    {
      "metadata": {
        "id": "dWviJHl7jNn0",
        "colab_type": "text"
      },
      "cell_type": "markdown",
      "source": [
        "### Asignación: Imprimir colaborador"
      ]
    },
    {
      "metadata": {
        "id": "ebdiFcpakGU6",
        "colab_type": "code",
        "colab": {
          "base_uri": "https://localhost:8080/",
          "height": 34
        },
        "outputId": "873b7aee-e6fa-49c1-ab67-136f09c387b6"
      },
      "cell_type": "code",
      "source": [
        "print(colaborador);"
      ],
      "execution_count": 10,
      "outputs": [
        {
          "output_type": "stream",
          "text": [
            "{'edad': 20, 'puesto': 'CTO', 'cedula': '20-53-4978'}\n"
          ],
          "name": "stdout"
        }
      ]
    },
    {
      "metadata": {
        "id": "o9T2dJBokKRl",
        "colab_type": "text"
      },
      "cell_type": "markdown",
      "source": [
        "## Objetos y clases"
      ]
    },
    {
      "metadata": {
        "id": "9yCFdLAxkNLJ",
        "colab_type": "code",
        "outputId": "6fd1a4a6-2fc9-4f7a-b9db-2bd092492fbb",
        "colab": {
          "base_uri": "https://localhost:8080/",
          "height": 102
        }
      },
      "cell_type": "code",
      "source": [
        "# definimos una clase Bike\n",
        "class Bike:\n",
        "\n",
        "    def __init__(self, colour, frame_material):\n",
        "        self.colour = colour\n",
        "        self.frame_material = frame_material\n",
        "\n",
        "    def brake(self):\n",
        "        print(\"Braking!\")\n",
        "\n",
        "# creamos instancias\n",
        "red_bike = Bike('Red', 'Carbon fiber')\n",
        "blue_bike = Bike('Blue', 'Steel')\n",
        "\n",
        "# Verificamos que los objetos que tenenmos, sean instancias de la clase Bike\n",
        "print(red_bike.colour)  # prints: Red\n",
        "print(red_bike.frame_material)  # prints: Carbon fiber\n",
        "print(blue_bike.colour)  # prints: Blue\n",
        "print(blue_bike.frame_material)  # prints: Steel\n",
        "\n",
        "# let's brake!\n",
        "red_bike.brake()  # prints: Braking!\n"
      ],
      "execution_count": 0,
      "outputs": [
        {
          "output_type": "stream",
          "text": [
            "Red\n",
            "Carbon fiber\n",
            "Blue\n",
            "Steel\n",
            "Braking!\n"
          ],
          "name": "stdout"
        }
      ]
    },
    {
      "metadata": {
        "id": "SbxmG7emlSPN",
        "colab_type": "text"
      },
      "cell_type": "markdown",
      "source": [
        "## Tarea\n",
        "\n",
        "\n",
        "1.   Crear una cuenta en Github\n",
        "2. Crear un proyecto llamado \"FISC0746-estructuras-discretas-para-la-computacion\"\n",
        "2.   Subir este archivo en el proyecto\n",
        "3.  Enviar al correo (ezequiel.aguilar@utp.ac.pa) el usuario  de Github y la URL del proyecto\n",
        "\n"
      ]
    }
  ]
}
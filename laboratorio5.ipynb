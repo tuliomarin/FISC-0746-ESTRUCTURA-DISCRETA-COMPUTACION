{
  "nbformat": 4,
  "nbformat_minor": 0,
  "metadata": {
    "colab": {
      "name": "laboratorio5.ipynb",
      "version": "0.3.2",
      "provenance": []
    },
    "kernelspec": {
      "name": "python3",
      "display_name": "Python 3"
    }
  },
  "cells": [
    {
      "cell_type": "code",
      "metadata": {
        "id": "RxeuLKIDTa5l",
        "colab_type": "code",
        "colab": {
          "base_uri": "https://localhost:8080/",
          "height": 34
        },
        "outputId": "2e68a444-5175-47b0-a365-ea4944eb9436"
      },
      "source": [
        "import math\n",
        "math.factorial(5)\n"
      ],
      "execution_count": 10,
      "outputs": [
        {
          "output_type": "execute_result",
          "data": {
            "text/plain": [
              "120"
            ]
          },
          "metadata": {
            "tags": []
          },
          "execution_count": 10
        }
      ]
    },
    {
      "cell_type": "code",
      "metadata": {
        "id": "KxZudszLX94U",
        "colab_type": "code",
        "colab": {}
      },
      "source": [
        "def factorial (n):\n",
        "  if n>1:\n",
        "    return n * factorial(n-1)\n",
        "  else:\n",
        "    return 1\n",
        "\n"
      ],
      "execution_count": 0,
      "outputs": []
    },
    {
      "cell_type": "code",
      "metadata": {
        "id": "XwdBDq_faLP5",
        "colab_type": "code",
        "colab": {
          "base_uri": "https://localhost:8080/",
          "height": 34
        },
        "outputId": "29b18ded-cda4-4a1a-a503-7be5622a58b7"
      },
      "source": [
        "factorial(5)"
      ],
      "execution_count": 21,
      "outputs": [
        {
          "output_type": "execute_result",
          "data": {
            "text/plain": [
              "120"
            ]
          },
          "metadata": {
            "tags": []
          },
          "execution_count": 21
        }
      ]
    },
    {
      "cell_type": "markdown",
      "metadata": {
        "id": "vDk5Hr_QcikG",
        "colab_type": "text"
      },
      "source": [
        "# **combinaciones**\n",
        "\n",
        "---\n",
        "\n"
      ]
    },
    {
      "cell_type": "code",
      "metadata": {
        "id": "AdefIBXwbZv7",
        "colab_type": "code",
        "colab": {
          "base_uri": "https://localhost:8080/",
          "height": 34
        },
        "outputId": "08c54e82-2c51-4863-8c89-c1c87ee8e74d"
      },
      "source": [
        "import itertools \n",
        "\n",
        "list(itertools.combinations(range(3),2))"
      ],
      "execution_count": 28,
      "outputs": [
        {
          "output_type": "execute_result",
          "data": {
            "text/plain": [
              "[(0, 1), (0, 2), (1, 2)]"
            ]
          },
          "metadata": {
            "tags": []
          },
          "execution_count": 28
        }
      ]
    },
    {
      "cell_type": "markdown",
      "metadata": {
        "id": "YxlCXUIDcwh5",
        "colab_type": "text"
      },
      "source": [
        "##combinaciones con reemplazo\n"
      ]
    },
    {
      "cell_type": "code",
      "metadata": {
        "id": "vybqIdS0crwi",
        "colab_type": "code",
        "colab": {
          "base_uri": "https://localhost:8080/",
          "height": 34
        },
        "outputId": "2cac568a-5fa8-4d54-a2b9-dc857db43bcb"
      },
      "source": [
        "list(itertools.combinations_with_replacement(range(3),2))"
      ],
      "execution_count": 30,
      "outputs": [
        {
          "output_type": "execute_result",
          "data": {
            "text/plain": [
              "[(0, 0), (0, 1), (0, 2), (1, 1), (1, 2), (2, 2)]"
            ]
          },
          "metadata": {
            "tags": []
          },
          "execution_count": 30
        }
      ]
    },
    {
      "cell_type": "markdown",
      "metadata": {
        "id": "0xBAzm7AdJpP",
        "colab_type": "text"
      },
      "source": [
        "##dado un numero de elementos A, B, <<<<<<c, Queremos extraer todas las parejas posibles de dos elementos, AA, AB, AC, etc.\n"
      ]
    },
    {
      "cell_type": "code",
      "metadata": {
        "id": "-Mwf560mdsZR",
        "colab_type": "code",
        "colab": {
          "base_uri": "https://localhost:8080/",
          "height": 170
        },
        "outputId": "75930950-062a-4e6b-e57b-5cf7272329ea"
      },
      "source": [
        "c = itertools.product(('A', 'B', 'C'), repeat=2)\n",
        "list(c)"
      ],
      "execution_count": 33,
      "outputs": [
        {
          "output_type": "execute_result",
          "data": {
            "text/plain": [
              "[('A', 'A'),\n",
              " ('A', 'B'),\n",
              " ('A', 'C'),\n",
              " ('B', 'A'),\n",
              " ('B', 'B'),\n",
              " ('B', 'C'),\n",
              " ('C', 'A'),\n",
              " ('C', 'B'),\n",
              " ('C', 'C')]"
            ]
          },
          "metadata": {
            "tags": []
          },
          "execution_count": 33
        }
      ]
    },
    {
      "cell_type": "code",
      "metadata": {
        "id": "29GCMFXde7lo",
        "colab_type": "code",
        "colab": {
          "base_uri": "https://localhost:8080/",
          "height": 34
        },
        "outputId": "964fd1df-69d4-472c-fd1c-ebe4402c4c05"
      },
      "source": [
        "c= itertools.permutations(('A', 'B', 'C'),2)\n",
        "list(c)"
      ],
      "execution_count": 34,
      "outputs": [
        {
          "output_type": "execute_result",
          "data": {
            "text/plain": [
              "[('A', 'B'), ('A', 'C'), ('B', 'A'), ('B', 'C'), ('C', 'A'), ('C', 'B')]"
            ]
          },
          "metadata": {
            "tags": []
          },
          "execution_count": 34
        }
      ]
    },
    {
      "cell_type": "markdown",
      "metadata": {
        "id": "-YLp-6LrfR38",
        "colab_type": "text"
      },
      "source": [
        "##Combinaciones\n"
      ]
    },
    {
      "cell_type": "code",
      "metadata": {
        "id": "2bQcmTqOfNhK",
        "colab_type": "code",
        "colab": {
          "base_uri": "https://localhost:8080/",
          "height": 34
        },
        "outputId": "68aa25dc-8f3e-4aca-8580-92d53987d91e"
      },
      "source": [
        "c= itertools.combinations(('A', 'B', 'C'),2)\n",
        "list(c)"
      ],
      "execution_count": 35,
      "outputs": [
        {
          "output_type": "execute_result",
          "data": {
            "text/plain": [
              "[('A', 'B'), ('A', 'C'), ('B', 'C')]"
            ]
          },
          "metadata": {
            "tags": []
          },
          "execution_count": 35
        }
      ]
    },
    {
      "cell_type": "markdown",
      "metadata": {
        "id": "86xiRSmjgHpj",
        "colab_type": "text"
      },
      "source": [
        "##Tarea 02: octavos de final Champions Leage 2019\n",
        "\n",
        "¿Cuales son las posibles combinaciones de partidos?\n",
        "¿Cuantos combinaciones?"
      ]
    },
    {
      "cell_type": "code",
      "metadata": {
        "id": "dY4C3bCNgwMs",
        "colab_type": "code",
        "colab": {
          "base_uri": "https://localhost:8080/",
          "height": 1139
        },
        "outputId": "9b0a924a-83ee-4202-da71-be5e2d8374ae"
      },
      "source": [
        "c= itertools.combinations(('Porto', 'Roma', 'Manchester City','Schalke04','Bayer', 'Liverpool', 'Manchester United', 'PSG', 'Juventus', 'Atletico Madrid', 'Barcelona', 'Lyon'),2)\n",
        "list(c)\n"
      ],
      "execution_count": 60,
      "outputs": [
        {
          "output_type": "execute_result",
          "data": {
            "text/plain": [
              "[('Porto', 'Roma'),\n",
              " ('Porto', 'Manchester City'),\n",
              " ('Porto', 'Schalke04'),\n",
              " ('Porto', 'Bayer'),\n",
              " ('Porto', 'Liverpool'),\n",
              " ('Porto', 'Manchester United'),\n",
              " ('Porto', 'PSG'),\n",
              " ('Porto', 'Juventus'),\n",
              " ('Porto', 'Atletico Madrid'),\n",
              " ('Porto', 'Barcelona'),\n",
              " ('Porto', 'Lyon'),\n",
              " ('Roma', 'Manchester City'),\n",
              " ('Roma', 'Schalke04'),\n",
              " ('Roma', 'Bayer'),\n",
              " ('Roma', 'Liverpool'),\n",
              " ('Roma', 'Manchester United'),\n",
              " ('Roma', 'PSG'),\n",
              " ('Roma', 'Juventus'),\n",
              " ('Roma', 'Atletico Madrid'),\n",
              " ('Roma', 'Barcelona'),\n",
              " ('Roma', 'Lyon'),\n",
              " ('Manchester City', 'Schalke04'),\n",
              " ('Manchester City', 'Bayer'),\n",
              " ('Manchester City', 'Liverpool'),\n",
              " ('Manchester City', 'Manchester United'),\n",
              " ('Manchester City', 'PSG'),\n",
              " ('Manchester City', 'Juventus'),\n",
              " ('Manchester City', 'Atletico Madrid'),\n",
              " ('Manchester City', 'Barcelona'),\n",
              " ('Manchester City', 'Lyon'),\n",
              " ('Schalke04', 'Bayer'),\n",
              " ('Schalke04', 'Liverpool'),\n",
              " ('Schalke04', 'Manchester United'),\n",
              " ('Schalke04', 'PSG'),\n",
              " ('Schalke04', 'Juventus'),\n",
              " ('Schalke04', 'Atletico Madrid'),\n",
              " ('Schalke04', 'Barcelona'),\n",
              " ('Schalke04', 'Lyon'),\n",
              " ('Bayer', 'Liverpool'),\n",
              " ('Bayer', 'Manchester United'),\n",
              " ('Bayer', 'PSG'),\n",
              " ('Bayer', 'Juventus'),\n",
              " ('Bayer', 'Atletico Madrid'),\n",
              " ('Bayer', 'Barcelona'),\n",
              " ('Bayer', 'Lyon'),\n",
              " ('Liverpool', 'Manchester United'),\n",
              " ('Liverpool', 'PSG'),\n",
              " ('Liverpool', 'Juventus'),\n",
              " ('Liverpool', 'Atletico Madrid'),\n",
              " ('Liverpool', 'Barcelona'),\n",
              " ('Liverpool', 'Lyon'),\n",
              " ('Manchester United', 'PSG'),\n",
              " ('Manchester United', 'Juventus'),\n",
              " ('Manchester United', 'Atletico Madrid'),\n",
              " ('Manchester United', 'Barcelona'),\n",
              " ('Manchester United', 'Lyon'),\n",
              " ('PSG', 'Juventus'),\n",
              " ('PSG', 'Atletico Madrid'),\n",
              " ('PSG', 'Barcelona'),\n",
              " ('PSG', 'Lyon'),\n",
              " ('Juventus', 'Atletico Madrid'),\n",
              " ('Juventus', 'Barcelona'),\n",
              " ('Juventus', 'Lyon'),\n",
              " ('Atletico Madrid', 'Barcelona'),\n",
              " ('Atletico Madrid', 'Lyon'),\n",
              " ('Barcelona', 'Lyon')]"
            ]
          },
          "metadata": {
            "tags": []
          },
          "execution_count": 60
        }
      ]
    },
    {
      "cell_type": "code",
      "metadata": {
        "id": "5E_Y5dTkmirk",
        "colab_type": "code",
        "colab": {
          "base_uri": "https://localhost:8080/",
          "height": 34
        },
        "outputId": "3e76fb00-ce38-4ee0-81a4-85a2a578efc6"
      },
      "source": [
        "len(list(itertools.combinations(('Porto', 'Roma', 'Manchester City','Schalke04','Bayer', 'Liverpool', 'Manchester United', 'PSG', 'Juventus', 'Atletico Madrid', 'Barcelona', 'Lyon'),2)))"
      ],
      "execution_count": 61,
      "outputs": [
        {
          "output_type": "execute_result",
          "data": {
            "text/plain": [
              "66"
            ]
          },
          "metadata": {
            "tags": []
          },
          "execution_count": 61
        }
      ]
    },
    {
      "cell_type": "markdown",
      "metadata": {
        "id": "A8RVZTRRckZG",
        "colab_type": "text"
      },
      "source": [
        ""
      ]
    }
  ]
}
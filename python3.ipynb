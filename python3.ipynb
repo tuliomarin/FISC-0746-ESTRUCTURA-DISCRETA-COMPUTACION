{
  "nbformat": 4,
  "nbformat_minor": 0,
  "metadata": {
    "colab": {
      "name": "python3.ipynb",
      "version": "0.3.2",
      "provenance": []
    },
    "kernelspec": {
      "name": "python3",
      "display_name": "Python 3"
    }
  },
  "cells": [
    {
      "metadata": {
        "id": "MCG_Ux4aN7JF",
        "colab_type": "code",
        "colab": {}
      },
      "cell_type": "code",
      "source": [
        ""
      ],
      "execution_count": 0,
      "outputs": []
    },
    {
      "metadata": {
        "id": "kdUFek8hOI6c",
        "colab_type": "text"
      },
      "cell_type": "markdown",
      "source": [
        "##Estructuras Discretas\n",
        "##Julio Antonio Marin \n",
        "\n"
      ]
    },
    {
      "metadata": {
        "id": "6aL2HjPcOb9L",
        "colab_type": "code",
        "colab": {
          "base_uri": "https://localhost:8080/",
          "height": 34
        },
        "outputId": "8e913b52-7933-422d-f899-e179c6a008ca"
      },
      "cell_type": "code",
      "source": [
        "x = 12\n",
        "if x >10:\n",
        "  print(\"true\")"
      ],
      "execution_count": 6,
      "outputs": [
        {
          "output_type": "stream",
          "text": [
            "true\n"
          ],
          "name": "stdout"
        }
      ]
    },
    {
      "metadata": {
        "id": "TpASybkWP3Yb",
        "colab_type": "code",
        "colab": {
          "base_uri": "https://localhost:8080/",
          "height": 34
        },
        "outputId": "f3bddc16-35ad-4e73-9456-74a3da5ee79c"
      },
      "cell_type": "code",
      "source": [
        "x = 12\n",
        "if x <10:\n",
        "  print(\"true\")\n",
        "else:\n",
        "  print(\"false\")"
      ],
      "execution_count": 8,
      "outputs": [
        {
          "output_type": "stream",
          "text": [
            "false\n"
          ],
          "name": "stdout"
        }
      ]
    },
    {
      "metadata": {
        "id": "UoQGKrysQNxb",
        "colab_type": "code",
        "colab": {
          "base_uri": "https://localhost:8080/",
          "height": 34
        },
        "outputId": "e6472714-6e9e-4908-9635-9379e1cfaa63"
      },
      "cell_type": "code",
      "source": [
        "x = 10\n",
        "y = 12\n",
        "if x > y:\n",
        "  print(\"x>y\")\n",
        "elif x < y:\n",
        "  print(\"x<y\")\n",
        "else:\n",
        "  print(\"x=y\")"
      ],
      "execution_count": 9,
      "outputs": [
        {
          "output_type": "stream",
          "text": [
            "x<y\n"
          ],
          "name": "stdout"
        }
      ]
    },
    {
      "metadata": {
        "id": "ntzlv8qhQyiT",
        "colab_type": "code",
        "colab": {
          "base_uri": "https://localhost:8080/",
          "height": 51
        },
        "outputId": "cadd473e-b8d1-43a0-999c-838d51cf3f6d"
      },
      "cell_type": "code",
      "source": [
        "#cambiar el valor de x\n",
        "x = 10\n",
        "y = 12\n",
        "if x > y:\n",
        "  print(\"x>y\")\n",
        "elif x < y:\n",
        "  print(\"x<y\")\n",
        "  if x == 10:\n",
        "    print(\"x = 10\")\n",
        "  else:\n",
        "    print(\"invalid\")\n",
        "else:\n",
        "  print(\"x=y\")"
      ],
      "execution_count": 10,
      "outputs": [
        {
          "output_type": "stream",
          "text": [
            "x<y\n",
            "x = 10\n"
          ],
          "name": "stdout"
        }
      ]
    },
    {
      "metadata": {
        "id": "18w9Y8uvRdqT",
        "colab_type": "code",
        "colab": {
          "base_uri": "https://localhost:8080/",
          "height": 102
        },
        "outputId": "5887e327-ad98-401f-af64-e3f5c866746c"
      },
      "cell_type": "code",
      "source": [
        "for i in range(1,5):\n",
        "  print(i)"
      ],
      "execution_count": 19,
      "outputs": [
        {
          "output_type": "stream",
          "text": [
            "0\n",
            "1\n",
            "2\n",
            "3\n",
            "4\n"
          ],
          "name": "stdout"
        }
      ]
    },
    {
      "metadata": {
        "id": "lIcEpVF-TCdr",
        "colab_type": "code",
        "colab": {
          "base_uri": "https://localhost:8080/",
          "height": 68
        },
        "outputId": "69988cce-8e0f-4946-edac-143860cdae21"
      },
      "cell_type": "code",
      "source": [
        "list_of_lists = [[1,2,3], [4,5,6], [7,8,9]]\n",
        "for list1 in list_of_lists:\n",
        "  print(list1)"
      ],
      "execution_count": 14,
      "outputs": [
        {
          "output_type": "stream",
          "text": [
            "[1, 2, 3]\n",
            "[4, 5, 6]\n",
            "[7, 8, 9]\n"
          ],
          "name": "stdout"
        }
      ]
    },
    {
      "metadata": {
        "id": "ROExZJpYTu2r",
        "colab_type": "code",
        "colab": {
          "base_uri": "https://localhost:8080/",
          "height": 170
        },
        "outputId": "6978ea3a-70f2-4dc1-edc4-6810fba399c5"
      },
      "cell_type": "code",
      "source": [
        "list_of_lists = [[1,2,3], [4,5,6], [7,8,9]]\n",
        "for list1 in list_of_lists:\n",
        "  for x in list1:\n",
        "    print(x)"
      ],
      "execution_count": 16,
      "outputs": [
        {
          "output_type": "stream",
          "text": [
            "1\n",
            "2\n",
            "3\n",
            "4\n",
            "5\n",
            "6\n",
            "7\n",
            "8\n",
            "9\n"
          ],
          "name": "stdout"
        }
      ]
    },
    {
      "metadata": {
        "id": "xA4ocBl1WEob",
        "colab_type": "code",
        "colab": {
          "base_uri": "https://localhost:8080/",
          "height": 68
        },
        "outputId": "65d4f1d7-ff44-4fb3-99a4-93009563d343"
      },
      "cell_type": "code",
      "source": [
        "i = 1\n",
        "while i < 3:\n",
        "  print(i ** 2)\n",
        "  i = i + 1\n",
        "print(\"bye\")"
      ],
      "execution_count": 17,
      "outputs": [
        {
          "output_type": "stream",
          "text": [
            "1\n",
            "4\n",
            "bye\n"
          ],
          "name": "stdout"
        }
      ]
    },
    {
      "metadata": {
        "id": "ilGGoALSWytc",
        "colab_type": "code",
        "colab": {
          "base_uri": "https://localhost:8080/",
          "height": 153
        },
        "outputId": "448eb362-dfa2-4ffc-b746-b588b99d580a"
      },
      "cell_type": "code",
      "source": [
        "for i in range(100):\n",
        "  print(i)\n",
        "  if i >= 7:\n",
        "    break\n",
        "    "
      ],
      "execution_count": 18,
      "outputs": [
        {
          "output_type": "stream",
          "text": [
            "0\n",
            "1\n",
            "2\n",
            "3\n",
            "4\n",
            "5\n",
            "6\n",
            "7\n"
          ],
          "name": "stdout"
        }
      ]
    },
    {
      "metadata": {
        "id": "rGCoYwjsXslr",
        "colab_type": "code",
        "colab": {
          "base_uri": "https://localhost:8080/",
          "height": 187
        },
        "outputId": "2e8ff2ce-a4e0-4d67-fcfd-2e98b13b2a64"
      },
      "cell_type": "code",
      "source": [
        "for i in range(10):\n",
        "  if i > 4:\n",
        "      print(\"the end.\")\n",
        "      continue\n",
        "  elif i<7:\n",
        "    print(i)"
      ],
      "execution_count": 22,
      "outputs": [
        {
          "output_type": "stream",
          "text": [
            "0\n",
            "1\n",
            "2\n",
            "3\n",
            "4\n",
            "the end.\n",
            "the end.\n",
            "the end.\n",
            "the end.\n",
            "the end.\n"
          ],
          "name": "stdout"
        }
      ]
    },
    {
      "metadata": {
        "id": "mrOdtReWYRlb",
        "colab_type": "code",
        "colab": {
          "base_uri": "https://localhost:8080/",
          "height": 34
        },
        "outputId": "0a3bbd38-3f28-4b64-b6d2-1be91dcf02dd"
      },
      "cell_type": "code",
      "source": [
        "res = []\n",
        "for i in range(1, 11):\n",
        "  x = 27*i\n",
        "  res.append(x)\n",
        "print(res)"
      ],
      "execution_count": 23,
      "outputs": [
        {
          "output_type": "stream",
          "text": [
            "[27, 54, 81, 108, 135, 162, 189, 216, 243, 270]\n"
          ],
          "name": "stdout"
        }
      ]
    },
    {
      "metadata": {
        "id": "nRJA6w4BZGz9",
        "colab_type": "code",
        "colab": {
          "base_uri": "https://localhost:8080/",
          "height": 34
        },
        "outputId": "ed77fa56-d9ad-40da-f07f-2093306ff0cf"
      },
      "cell_type": "code",
      "source": [
        "[27*x for x in range(1,11) if x<=10]"
      ],
      "execution_count": 24,
      "outputs": [
        {
          "output_type": "execute_result",
          "data": {
            "text/plain": [
              "[27, 54, 81, 108, 135, 162, 189, 216, 243, 270]"
            ]
          },
          "metadata": {
            "tags": []
          },
          "execution_count": 24
        }
      ]
    },
    {
      "metadata": {
        "id": "pBDcbQQPZ5Jz",
        "colab_type": "code",
        "colab": {
          "base_uri": "https://localhost:8080/",
          "height": 51
        },
        "outputId": "18407ad2-ecc0-4f33-888c-aa7c16bcc902"
      },
      "cell_type": "code",
      "source": [
        "#establecer el numero que divide\n",
        "dividir = 5\n",
        "\n",
        "#dos listas\n",
        "bajos = []; altos = []\n",
        "\n",
        "#dividir las listas \n",
        "for i in range(10):\n",
        "  if (i<dividir) :\n",
        "    bajos.append(i)\n",
        "  else:\n",
        "    altos.append(i)\n",
        "print(\"bajos\", bajos)\n",
        "print(\"altos\", altos)\n",
        "\n"
      ],
      "execution_count": 25,
      "outputs": [
        {
          "output_type": "stream",
          "text": [
            "bajos [0, 1, 2, 3, 4]\n",
            "altos [5, 6, 7, 8, 9]\n"
          ],
          "name": "stdout"
        }
      ]
    }
  ]
}